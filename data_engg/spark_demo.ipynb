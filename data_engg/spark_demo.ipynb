{
 "cells": [
  {
   "cell_type": "code",
   "execution_count": 20,
   "id": "e140503b-92f5-4f9e-90df-a876a25cdf2f",
   "metadata": {},
   "outputs": [],
   "source": [
    "from pyspark.sql import SparkSession\n",
    "import json\n",
    "from pyspark.sql.functions import *"
   ]
  },
  {
   "cell_type": "code",
   "execution_count": 21,
   "id": "9f638816-2e6a-4b42-b6f9-979396ea79ad",
   "metadata": {},
   "outputs": [],
   "source": [
    "spark = SparkSession.builder.appName('spark_examples').getOrCreate()"
   ]
  },
  {
   "cell_type": "code",
   "execution_count": 22,
   "id": "7ad6d99c-5a1c-4f93-bb01-b69034a1f09c",
   "metadata": {},
   "outputs": [],
   "source": [
    "with open('data.json', 'r', encoding='utf-8') as file:\n",
    "    data = json.loads(file.read())"
   ]
  },
  {
   "cell_type": "code",
   "execution_count": 23,
   "id": "2f7ed76e-7825-4df0-adad-e6042bf56323",
   "metadata": {},
   "outputs": [],
   "source": [
    "data = [item.get('item') for item in data]"
   ]
  },
  {
   "cell_type": "code",
   "execution_count": 24,
   "id": "96e412d0-b64c-4ef0-9a08-55ec234386bc",
   "metadata": {},
   "outputs": [],
   "source": [
    "movies = spark.createDataFrame(data)"
   ]
  },
  {
   "cell_type": "code",
   "execution_count": 19,
   "id": "d4ea1a72-2c1a-417c-8582-3d8e8e7bb1ba",
   "metadata": {},
   "outputs": [
    {
     "name": "stdout",
     "output_type": "stream",
     "text": [
      "+-----+--------------------+-------------+--------------------+--------+--------------------+--------------------+--------------------+--------------------+--------------------+-----+-------+\n",
      "|@type|     aggregateRating|contentRating|         description|duration|               genre|               image|                name|                 url|       alternateName|hours|minutes|\n",
      "+-----+--------------------+-------------+--------------------+--------+--------------------+--------------------+--------------------+--------------------+--------------------+-----+-------+\n",
      "|Movie|{bestRating -> 10...|           15|Over the course o...| PT2H22M|               Drama|https://m.media-a...|The Shawshank Red...|https://www.imdb....|                NULL|    2|     22|\n",
      "|Movie|{bestRating -> 10...|           15|Don Vito Corleone...| PT2H55M|        Crime, Drama|https://m.media-a...|       The Godfather|https://www.imdb....|                NULL|    2|     55|\n",
      "|Movie|{bestRating -> 10...|          12A|When the menace k...| PT2H32M|Action, Crime, Drama|https://m.media-a...|     The Dark Knight|https://www.imdb....|                NULL|    2|     32|\n",
      "|Movie|{bestRating -> 10...|            X|The early life an...| PT3H22M|        Crime, Drama|https://m.media-a...|The Godfather Par...|https://www.imdb....|                NULL|    3|     22|\n",
      "|Movie|{bestRating -> 10...|            U|The jury in a New...| PT1H36M|        Crime, Drama|https://m.media-a...|        12 Angry Men|https://www.imdb....|                NULL|    1|     36|\n",
      "|Movie|{bestRating -> 10...|           15|In German-occupie...| PT3H15M|Biography, Drama,...|https://m.media-a...|Schindler&apos;s ...|https://www.imdb....|                NULL|    3|     15|\n",
      "|Movie|{bestRating -> 10...|          12A|Gandalf and Arago...| PT3H21M|Action, Adventure...|https://m.media-a...|The Lord of the R...|https://www.imdb....|                NULL|    3|     21|\n",
      "|Movie|{bestRating -> 10...|           18|The lives of two ...| PT2H34M|        Crime, Drama|https://m.media-a...|        Pulp Fiction|https://www.imdb....|                NULL|    2|     34|\n",
      "|Movie|{bestRating -> 10...|           PG|A meek Hobbit fro...| PT2H58M|Action, Adventure...|https://m.media-a...|The Lord of the R...|https://www.imdb....|                NULL|    2|     58|\n",
      "|Movie|{bestRating -> 10...|           18|A bounty hunting ...| PT2H28M|Adventure, Drama,...|https://m.media-a...|Il buono, il brut...|https://www.imdb....|The Good, the Bad...|    2|     28|\n",
      "|Movie|{bestRating -> 10...|           12|The history of th...| PT2H22M|      Drama, Romance|https://m.media-a...|        Forrest Gump|https://www.imdb....|                NULL|    2|     22|\n",
      "|Movie|{bestRating -> 10...|          12A|While Frodo and S...| PT2H59M|Action, Adventure...|https://m.media-a...|The Lord of the R...|https://www.imdb....|                NULL|    2|     59|\n",
      "|Movie|{bestRating -> 10...|           15|An insomniac offi...| PT2H19M|               Drama|https://m.media-a...|          Fight Club|https://www.imdb....|                NULL|    2|     19|\n",
      "|Movie|{bestRating -> 10...|          12A|A thief who steal...| PT2H28M|Action, Adventure...|https://m.media-a...|           Inception|https://www.imdb....|                NULL|    2|     28|\n",
      "|Movie|{bestRating -> 10...|            U|After the Rebel A...|  PT2H4M|Action, Adventure...|https://m.media-a...|Star Wars: Episod...|https://www.imdb....|                NULL|    2|      4|\n",
      "|Movie|{bestRating -> 10...|           15|When a beautiful ...| PT2H16M|      Action, Sci-Fi|https://m.media-a...|          The Matrix|https://www.imdb....|                NULL|    2|     16|\n",
      "|Movie|{bestRating -> 10...|           18|The story of Henr...| PT2H25M|Biography, Crime,...|https://m.media-a...|          Goodfellas|https://www.imdb....|          GoodFellas|    2|     25|\n",
      "|Movie|{bestRating -> 10...|           15|In the Fall of 19...| PT2H13M|               Drama|https://m.media-a...|One Flew Over the...|https://www.imdb....|                NULL|    2|     13|\n",
      "|Movie|{bestRating -> 10...|           18|Two detectives, a...|  PT2H7M|Crime, Drama, Mys...|https://m.media-a...|               Se7en|https://www.imdb....|               Seven|    2|      7|\n",
      "|Movie|{bestRating -> 10...|          12A|When Earth become...| PT2H49M|Adventure, Drama,...|https://m.media-a...|        Interstellar|https://www.imdb....|                NULL|    2|     49|\n",
      "+-----+--------------------+-------------+--------------------+--------+--------------------+--------------------+--------------------+--------------------+--------------------+-----+-------+\n",
      "only showing top 20 rows\n",
      "\n"
     ]
    }
   ],
   "source": [
    "# Extracting Values from a string column in pyspark dataframe\n",
    "\n",
    "movies.withColumn('hours', regexp_extract(col('duration'), r\"PT(\\d+)H\", 1).cast('Integer')) \\\n",
    "      .withColumn('minutes', regexp_extract(col('duration'), r\"H(\\d+)M\", 1).cast('Integer')) \\\n",
    "      .withColumn('total_duration', '')"
   ]
  },
  {
   "cell_type": "code",
   "execution_count": null,
   "id": "d39d5c84-f385-415c-be08-a3c1d8c8112a",
   "metadata": {},
   "outputs": [],
   "source": []
  }
 ],
 "metadata": {
  "kernelspec": {
   "display_name": "Python 3 (ipykernel)",
   "language": "python",
   "name": "python3"
  },
  "language_info": {
   "codemirror_mode": {
    "name": "ipython",
    "version": 3
   },
   "file_extension": ".py",
   "mimetype": "text/x-python",
   "name": "python",
   "nbconvert_exporter": "python",
   "pygments_lexer": "ipython3",
   "version": "3.12.4"
  }
 },
 "nbformat": 4,
 "nbformat_minor": 5
}
